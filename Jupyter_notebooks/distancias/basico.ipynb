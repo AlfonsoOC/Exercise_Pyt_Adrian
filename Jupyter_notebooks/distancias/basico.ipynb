{
 "cells": [
  {
   "cell_type": "code",
   "execution_count": 1,
   "metadata": {},
   "outputs": [],
   "source": [
    "import pandas as pd\n",
    "from itertools import combinations"
   ]
  },
  {
   "cell_type": "markdown",
   "metadata": {},
   "source": [
    "# Load Data"
   ]
  },
  {
   "cell_type": "code",
   "execution_count": 2,
   "metadata": {},
   "outputs": [
    {
     "data": {
      "text/plain": [
       "(22331, 4)"
      ]
     },
     "execution_count": 2,
     "metadata": {},
     "output_type": "execute_result"
    }
   ],
   "source": [
    "df = pd.read_csv('datos/ID2Primer_S141_L001_R_001_allAligment.csv')\n",
    "\n",
    "# de una vez extraemos ID y BC y las agregamos como nuevas columnas\n",
    "df = (df\n",
    "      .join(  # we inner join the extracted 2-column dataframe into the original one\n",
    "          df.Sequences.str.extract(r'([A-Z]+)-([A-Z]+)'),  # the regex captures and extracts 2 groups, ID and BC\n",
    "          how='inner'\n",
    "      )\n",
    "      .rename(columns={0: 'ID', 1: 'BC'}))  # the extracted columns are named 0 and 1, we rename them\n",
    "df.shape"
   ]
  },
  {
   "cell_type": "code",
   "execution_count": 3,
   "metadata": {},
   "outputs": [
    {
     "data": {
      "text/plain": [
       "1293"
      ]
     },
     "execution_count": 3,
     "metadata": {},
     "output_type": "execute_result"
    }
   ],
   "source": [
    "df.BC.nunique()  # counts number of unique bar codes present in column BC"
   ]
  },
  {
   "cell_type": "code",
   "execution_count": 4,
   "metadata": {
    "scrolled": true
   },
   "outputs": [
    {
     "data": {
      "text/plain": [
       "(5582, 4)"
      ]
     },
     "execution_count": 4,
     "metadata": {},
     "output_type": "execute_result"
    }
   ],
   "source": [
    "df = df.sample(int(df.shape[0] / 4))  # sample 1/4 of the data to work with smaller dataset\n",
    "df.shape"
   ]
  },
  {
   "cell_type": "code",
   "execution_count": 5,
   "metadata": {},
   "outputs": [
    {
     "data": {
      "text/plain": [
       "Index(['Sequences', 'NumReads', 'ID', 'BC'], dtype='object')"
      ]
     },
     "execution_count": 5,
     "metadata": {},
     "output_type": "execute_result"
    }
   ],
   "source": [
    "df.columns"
   ]
  },
  {
   "cell_type": "code",
   "execution_count": 6,
   "metadata": {},
   "outputs": [
    {
     "data": {
      "text/html": [
       "<div>\n",
       "<style scoped>\n",
       "    .dataframe tbody tr th:only-of-type {\n",
       "        vertical-align: middle;\n",
       "    }\n",
       "\n",
       "    .dataframe tbody tr th {\n",
       "        vertical-align: top;\n",
       "    }\n",
       "\n",
       "    .dataframe thead th {\n",
       "        text-align: right;\n",
       "    }\n",
       "</style>\n",
       "<table border=\"1\" class=\"dataframe\">\n",
       "  <thead>\n",
       "    <tr style=\"text-align: right;\">\n",
       "      <th></th>\n",
       "      <th>Sequences</th>\n",
       "      <th>NumReads</th>\n",
       "      <th>ID</th>\n",
       "      <th>BC</th>\n",
       "    </tr>\n",
       "  </thead>\n",
       "  <tbody>\n",
       "    <tr>\n",
       "      <th>10246</th>\n",
       "      <td>TCAGTACCTCAT-GCGAGTCGGGGT</td>\n",
       "      <td>1</td>\n",
       "      <td>TCAGTACCTCAT</td>\n",
       "      <td>GCGAGTCGGGGT</td>\n",
       "    </tr>\n",
       "    <tr>\n",
       "      <th>20612</th>\n",
       "      <td>AGACTTATATCG-CTGCTTGGGTCA</td>\n",
       "      <td>1</td>\n",
       "      <td>AGACTTATATCG</td>\n",
       "      <td>CTGCTTGGGTCA</td>\n",
       "    </tr>\n",
       "  </tbody>\n",
       "</table>\n",
       "</div>"
      ],
      "text/plain": [
       "                       Sequences  NumReads            ID            BC\n",
       "10246  TCAGTACCTCAT-GCGAGTCGGGGT         1  TCAGTACCTCAT  GCGAGTCGGGGT\n",
       "20612  AGACTTATATCG-CTGCTTGGGTCA         1  AGACTTATATCG  CTGCTTGGGTCA"
      ]
     },
     "execution_count": 6,
     "metadata": {},
     "output_type": "execute_result"
    }
   ],
   "source": [
    "df.sample(2)"
   ]
  },
  {
   "cell_type": "markdown",
   "metadata": {},
   "source": [
    "# Discard non-12 len"
   ]
  },
  {
   "cell_type": "code",
   "execution_count": 7,
   "metadata": {},
   "outputs": [
    {
     "data": {
      "text/plain": [
       "(5500, 4)"
      ]
     },
     "execution_count": 7,
     "metadata": {},
     "output_type": "execute_result"
    }
   ],
   "source": [
    "df = df.loc[(df['ID'].map(len) == 12) & (df['BC'].map(len) == 12)]\n",
    "df.shape"
   ]
  }
 ],
 "metadata": {
  "kernelspec": {
   "display_name": "para-jugar-env",
   "language": "python",
   "name": "para-jugar-env"
  },
  "language_info": {
   "codemirror_mode": {
    "name": "ipython",
    "version": 3
   },
   "file_extension": ".py",
   "mimetype": "text/x-python",
   "name": "python",
   "nbconvert_exporter": "python",
   "pygments_lexer": "ipython3",
   "version": "3.9.13"
  }
 },
 "nbformat": 4,
 "nbformat_minor": 4
}
